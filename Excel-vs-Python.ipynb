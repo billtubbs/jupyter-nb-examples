{
 "cells": [
  {
   "cell_type": "markdown",
   "metadata": {},
   "source": [
    "# Trip Expenses"
   ]
  },
  {
   "cell_type": "code",
   "execution_count": 1,
   "metadata": {},
   "outputs": [],
   "source": [
    "import pandas as pd"
   ]
  },
  {
   "cell_type": "code",
   "execution_count": 2,
   "metadata": {},
   "outputs": [],
   "source": [
    "# Trip expenses\n",
    "data = {\n",
    "    'Food': [38.15, 0, 109.75], \n",
    "    'Car': [139, 0, 0], \n",
    "    'Fuel': [25.08, 0, 0], \n",
    "    'Tickets': [0, 134, 0], \n",
    "    'Other': [95, 0, 250]\n",
    "}\n",
    "index = ['Diane', 'Kelly', 'John']\n",
    "df = pd.DataFrame(data, index=index)"
   ]
  },
  {
   "cell_type": "code",
   "execution_count": 3,
   "metadata": {},
   "outputs": [
    {
     "data": {
      "text/html": [
       "<div>\n",
       "<style scoped>\n",
       "    .dataframe tbody tr th:only-of-type {\n",
       "        vertical-align: middle;\n",
       "    }\n",
       "\n",
       "    .dataframe tbody tr th {\n",
       "        vertical-align: top;\n",
       "    }\n",
       "\n",
       "    .dataframe thead th {\n",
       "        text-align: right;\n",
       "    }\n",
       "</style>\n",
       "<table border=\"1\" class=\"dataframe\">\n",
       "  <thead>\n",
       "    <tr style=\"text-align: right;\">\n",
       "      <th></th>\n",
       "      <th>Food</th>\n",
       "      <th>Car</th>\n",
       "      <th>Fuel</th>\n",
       "      <th>Tickets</th>\n",
       "      <th>Other</th>\n",
       "      <th>Total Paid</th>\n",
       "      <th>Owing</th>\n",
       "    </tr>\n",
       "  </thead>\n",
       "  <tbody>\n",
       "    <tr>\n",
       "      <th>Diane</th>\n",
       "      <td>38.15</td>\n",
       "      <td>139</td>\n",
       "      <td>25.08</td>\n",
       "      <td>0</td>\n",
       "      <td>95</td>\n",
       "      <td>297.23</td>\n",
       "      <td>-33.57</td>\n",
       "    </tr>\n",
       "    <tr>\n",
       "      <th>Kelly</th>\n",
       "      <td>0.00</td>\n",
       "      <td>0</td>\n",
       "      <td>0.00</td>\n",
       "      <td>134</td>\n",
       "      <td>0</td>\n",
       "      <td>134.00</td>\n",
       "      <td>129.66</td>\n",
       "    </tr>\n",
       "    <tr>\n",
       "      <th>John</th>\n",
       "      <td>109.75</td>\n",
       "      <td>0</td>\n",
       "      <td>0.00</td>\n",
       "      <td>0</td>\n",
       "      <td>250</td>\n",
       "      <td>359.75</td>\n",
       "      <td>-96.09</td>\n",
       "    </tr>\n",
       "  </tbody>\n",
       "</table>\n",
       "</div>"
      ],
      "text/plain": [
       "         Food  Car   Fuel  Tickets  Other  Total Paid   Owing\n",
       "Diane   38.15  139  25.08        0     95      297.23  -33.57\n",
       "Kelly    0.00    0   0.00      134      0      134.00  129.66\n",
       "John   109.75    0   0.00        0    250      359.75  -96.09"
      ]
     },
     "execution_count": 3,
     "metadata": {},
     "output_type": "execute_result"
    }
   ],
   "source": [
    "# Calculate amount owing\n",
    "df['Total Paid'] = df.sum(axis=1)\n",
    "average_cost = df['Total Paid'].mean()\n",
    "df['Owing'] = (average_cost - df['Total Paid'])\n",
    "df"
   ]
  },
  {
   "cell_type": "code",
   "execution_count": 4,
   "metadata": {},
   "outputs": [
    {
     "data": {
      "text/plain": [
       "297.23"
      ]
     },
     "execution_count": 4,
     "metadata": {},
     "output_type": "execute_result"
    }
   ],
   "source": [
    "df.loc['Diane', 'Food':'Other'].sum()"
   ]
  },
  {
   "cell_type": "code",
   "execution_count": null,
   "metadata": {},
   "outputs": [],
   "source": []
  },
  {
   "cell_type": "code",
   "execution_count": null,
   "metadata": {},
   "outputs": [],
   "source": []
  },
  {
   "cell_type": "code",
   "execution_count": null,
   "metadata": {},
   "outputs": [],
   "source": []
  }
 ],
 "metadata": {
  "kernelspec": {
   "display_name": "Python (torch)",
   "language": "python",
   "name": "torch"
  },
  "language_info": {
   "codemirror_mode": {
    "name": "ipython",
    "version": 3
   },
   "file_extension": ".py",
   "mimetype": "text/x-python",
   "name": "python",
   "nbconvert_exporter": "python",
   "pygments_lexer": "ipython3",
   "version": "3.7.6"
  }
 },
 "nbformat": 4,
 "nbformat_minor": 2
}
